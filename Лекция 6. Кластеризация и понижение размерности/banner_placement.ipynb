{
 "cells": [
  {
   "cell_type": "markdown",
   "metadata": {
    "id": "vZOlzdB5qGA4"
   },
   "source": [
    "# Размещение баннеров"
   ]
  },
  {
   "cell_type": "markdown",
   "metadata": {
    "id": "CPyLIK0rqGA5"
   },
   "source": [
    "Представим, что международное круизное агентство Carnival Cruise Line решило себя разрекламировать с помощью баннеров и обратилось для этого к вам. Чтобы протестировать, велика ли от таких баннеров польза, их будет размещено всего 20 штук по всему миру. Вам надо выбрать 20 таких локаций для размещения, чтобы польза была большой и агентство продолжило с вами сотрудничать.\n",
    "\n",
    "Агентство крупное, и у него есть несколько офисов по всему миру. Вблизи этих офисов оно и хочет разместить баннеры — легче договариваться и проверять результат. Также эти места должны быть популярны среди туристов."
   ]
  },
  {
   "cell_type": "code",
   "execution_count": 1,
   "metadata": {
    "collapsed": true,
    "id": "WIDAE3gaqGA6"
   },
   "outputs": [],
   "source": [
    "import numpy as np\n",
    "import pandas as pd\n",
    "from sklearn.cluster import MeanShift"
   ]
  },
  {
   "cell_type": "markdown",
   "metadata": {
    "id": "Ld1RBAHTqGA6"
   },
   "source": [
    "Для поиска оптимальных мест воспользуемся базой данных крупнейшей социальной сети, основанной на локациях — Foursquare.\n",
    "\n",
    "Часть открытых данных есть, например, на сайте archive.org:\n",
    "\n",
    "https://archive.org/details/201309_foursquare_dataset_umn\n",
    "\n",
    "Скачайте любым удобным образом архив fsq.zip с этой страницы.\n",
    "\n",
    "Нас будет интересовать файл checkins.dat."
   ]
  },
  {
   "cell_type": "markdown",
   "metadata": {
    "id": "YPv_w6leqGA6"
   },
   "source": [
    "Для удобной работы с этим документом преобразуем его к формату csv, удалив строки, не содержащие координат — они неинформативны для нас:"
   ]
  },
  {
   "cell_type": "code",
   "execution_count": 2,
   "metadata": {
    "id": "DxOkKMlpqGA7"
   },
   "outputs": [
    {
     "name": "stdout",
     "output_type": "stream",
     "text": [
      "<class 'pandas.core.frame.DataFrame'>\n",
      "RangeIndex: 1021967 entries, 0 to 1021966\n",
      "Data columns (total 6 columns):\n",
      " #   Column            Non-Null Count    Dtype  \n",
      "---  ------            --------------    -----  \n",
      " 0   id                1021967 non-null  object \n",
      " 1   user_id           1021966 non-null  float64\n",
      " 2   venue_id          1021966 non-null  float64\n",
      " 3   latitude          396634 non-null   float64\n",
      " 4   longitude         396634 non-null   float64\n",
      " 5   created_at        1021966 non-null  object \n",
      "dtypes: float64(4), object(2)\n",
      "memory usage: 46.8+ MB\n",
      "None\n"
     ]
    },
    {
     "data": {
      "text/html": [
       "<div>\n",
       "<style scoped>\n",
       "    .dataframe tbody tr th:only-of-type {\n",
       "        vertical-align: middle;\n",
       "    }\n",
       "\n",
       "    .dataframe tbody tr th {\n",
       "        vertical-align: top;\n",
       "    }\n",
       "\n",
       "    .dataframe thead th {\n",
       "        text-align: right;\n",
       "    }\n",
       "</style>\n",
       "<table border=\"1\" class=\"dataframe\">\n",
       "  <thead>\n",
       "    <tr style=\"text-align: right;\">\n",
       "      <th></th>\n",
       "      <th>id</th>\n",
       "      <th>user_id</th>\n",
       "      <th>venue_id</th>\n",
       "      <th>latitude</th>\n",
       "      <th>longitude</th>\n",
       "      <th>created_at</th>\n",
       "    </tr>\n",
       "  </thead>\n",
       "  <tbody>\n",
       "    <tr>\n",
       "      <th>0</th>\n",
       "      <td>984301</td>\n",
       "      <td>2041916.0</td>\n",
       "      <td>5222.0</td>\n",
       "      <td>NaN</td>\n",
       "      <td>NaN</td>\n",
       "      <td>2012-04-21 17:39:01</td>\n",
       "    </tr>\n",
       "    <tr>\n",
       "      <th>1</th>\n",
       "      <td>984222</td>\n",
       "      <td>15824.0</td>\n",
       "      <td>5222.0</td>\n",
       "      <td>38.895112</td>\n",
       "      <td>-77.036366</td>\n",
       "      <td>2012-04-21 17:43:47</td>\n",
       "    </tr>\n",
       "    <tr>\n",
       "      <th>2</th>\n",
       "      <td>984315</td>\n",
       "      <td>1764391.0</td>\n",
       "      <td>5222.0</td>\n",
       "      <td>NaN</td>\n",
       "      <td>NaN</td>\n",
       "      <td>2012-04-21 17:37:18</td>\n",
       "    </tr>\n",
       "    <tr>\n",
       "      <th>3</th>\n",
       "      <td>984234</td>\n",
       "      <td>44652.0</td>\n",
       "      <td>5222.0</td>\n",
       "      <td>33.800745</td>\n",
       "      <td>-84.410520</td>\n",
       "      <td>2012-04-21 17:43:43</td>\n",
       "    </tr>\n",
       "    <tr>\n",
       "      <th>4</th>\n",
       "      <td>984249</td>\n",
       "      <td>2146840.0</td>\n",
       "      <td>5222.0</td>\n",
       "      <td>NaN</td>\n",
       "      <td>NaN</td>\n",
       "      <td>2012-04-21 17:42:58</td>\n",
       "    </tr>\n",
       "  </tbody>\n",
       "</table>\n",
       "</div>"
      ],
      "text/plain": [
       "    id       user_id   venue_id   latitude        longitude       \\\n",
       "0  984301   2041916.0     5222.0             NaN             NaN   \n",
       "1  984222     15824.0     5222.0       38.895112      -77.036366   \n",
       "2  984315   1764391.0     5222.0             NaN             NaN   \n",
       "3  984234     44652.0     5222.0       33.800745      -84.410520   \n",
       "4  984249   2146840.0     5222.0             NaN             NaN   \n",
       "\n",
       "      created_at        \n",
       "0  2012-04-21 17:39:01  \n",
       "1  2012-04-21 17:43:47  \n",
       "2  2012-04-21 17:37:18  \n",
       "3  2012-04-21 17:43:43  \n",
       "4  2012-04-21 17:42:58  "
      ]
     },
     "execution_count": 2,
     "metadata": {},
     "output_type": "execute_result"
    }
   ],
   "source": [
    "#Reading the data file\n",
    "checkins = pd.read_csv('checkins.dat', sep='|', skipinitialspace=True, skiprows=[1], low_memory=False)\n",
    "print(checkins.info())\n",
    "checkins.head()"
   ]
  },
  {
   "cell_type": "code",
   "execution_count": 3,
   "metadata": {
    "id": "9_4hf84PqGA7",
    "scrolled": true
   },
   "outputs": [
    {
     "name": "stdout",
     "output_type": "stream",
     "text": [
      "Shape without NaN: (396634, 6)\n"
     ]
    },
    {
     "data": {
      "text/html": [
       "<div>\n",
       "<style scoped>\n",
       "    .dataframe tbody tr th:only-of-type {\n",
       "        vertical-align: middle;\n",
       "    }\n",
       "\n",
       "    .dataframe tbody tr th {\n",
       "        vertical-align: top;\n",
       "    }\n",
       "\n",
       "    .dataframe thead th {\n",
       "        text-align: right;\n",
       "    }\n",
       "</style>\n",
       "<table border=\"1\" class=\"dataframe\">\n",
       "  <thead>\n",
       "    <tr style=\"text-align: right;\">\n",
       "      <th></th>\n",
       "      <th>id</th>\n",
       "      <th>user_id</th>\n",
       "      <th>venue_id</th>\n",
       "      <th>latitude</th>\n",
       "      <th>longitude</th>\n",
       "      <th>created_at</th>\n",
       "    </tr>\n",
       "  </thead>\n",
       "  <tbody>\n",
       "    <tr>\n",
       "      <th>1</th>\n",
       "      <td>984222</td>\n",
       "      <td>15824.0</td>\n",
       "      <td>5222.0</td>\n",
       "      <td>38.895112</td>\n",
       "      <td>-77.036366</td>\n",
       "      <td>2012-04-21 17:43:47</td>\n",
       "    </tr>\n",
       "    <tr>\n",
       "      <th>3</th>\n",
       "      <td>984234</td>\n",
       "      <td>44652.0</td>\n",
       "      <td>5222.0</td>\n",
       "      <td>33.800745</td>\n",
       "      <td>-84.410520</td>\n",
       "      <td>2012-04-21 17:43:43</td>\n",
       "    </tr>\n",
       "    <tr>\n",
       "      <th>7</th>\n",
       "      <td>984291</td>\n",
       "      <td>105054.0</td>\n",
       "      <td>5222.0</td>\n",
       "      <td>45.523452</td>\n",
       "      <td>-122.676207</td>\n",
       "      <td>2012-04-21 17:39:22</td>\n",
       "    </tr>\n",
       "    <tr>\n",
       "      <th>9</th>\n",
       "      <td>984318</td>\n",
       "      <td>2146539.0</td>\n",
       "      <td>5222.0</td>\n",
       "      <td>40.764462</td>\n",
       "      <td>-111.904565</td>\n",
       "      <td>2012-04-21 17:35:46</td>\n",
       "    </tr>\n",
       "    <tr>\n",
       "      <th>10</th>\n",
       "      <td>984232</td>\n",
       "      <td>93870.0</td>\n",
       "      <td>380645.0</td>\n",
       "      <td>33.448377</td>\n",
       "      <td>-112.074037</td>\n",
       "      <td>2012-04-21 17:38:18</td>\n",
       "    </tr>\n",
       "  </tbody>\n",
       "</table>\n",
       "</div>"
      ],
      "text/plain": [
       "         id    user_id  venue_id   latitude   longitude           created_at\n",
       "1   984222     15824.0    5222.0  38.895112  -77.036366  2012-04-21 17:43:47\n",
       "3   984234     44652.0    5222.0  33.800745  -84.410520  2012-04-21 17:43:43\n",
       "7   984291    105054.0    5222.0  45.523452 -122.676207  2012-04-21 17:39:22\n",
       "9   984318   2146539.0    5222.0  40.764462 -111.904565  2012-04-21 17:35:46\n",
       "10  984232     93870.0  380645.0  33.448377 -112.074037  2012-04-21 17:38:18"
      ]
     },
     "execution_count": 3,
     "metadata": {},
     "output_type": "execute_result"
    }
   ],
   "source": [
    "#Stripping columns names (deleting whitespaces)\n",
    "checkins.columns = checkins.columns.str.strip()\n",
    "\n",
    "#Dropping rows with NaN values\n",
    "checkins = checkins.dropna()\n",
    "print('Shape without NaN: %s' % str(checkins.shape))\n",
    "checkins.head()"
   ]
  },
  {
   "cell_type": "markdown",
   "metadata": {
    "id": "tdVYh7prqGA7"
   },
   "source": [
    "Теперь необходимо кластеризовать данные координаты, чтобы выявить центры скоплений туристов. Поскольку баннеры имеют сравнительно небольшую площадь действия, нам нужен алгоритм, позволяющий ограничить размер кластера и не зависящий от количества кластеров.\n",
    "\n",
    "Эта задача — хороший повод познакомиться с алгоритмом MeanShift. Его описание при желании можно посмотреть в sklearn user guide. Используйте MeanShift, указав bandwidth=0.1, что в переводе из градусов в метры колеблется примерно от 5 до 10 км в средних широтах."
   ]
  },
  {
   "cell_type": "markdown",
   "metadata": {
    "id": "Udhu1wghqGA7"
   },
   "source": [
    "Примечание: на 396634 строках кластеризация будет работать долго. Быть очень терпеливым не возбраняется — результат от этого только улучшится. Но для того, чтобы сдать задание, понадобится сабсет из первых 100 тысяч строк. Это компромисс между качеством и затраченным временем. Обучение алгоритма на всём датасете занимает около часа, а на 100 тыс. строк — примерно 2 минуты, однако этого достаточно для получения корректных результатов."
   ]
  },
  {
   "cell_type": "code",
   "execution_count": 4,
   "metadata": {},
   "outputs": [
    {
     "data": {
      "text/plain": [
       "array([ 5,  7, 30, ..., 25, 19,  4])"
      ]
     },
     "execution_count": 4,
     "metadata": {},
     "output_type": "execute_result"
    }
   ],
   "source": [
    "bandwidth = 0.1\n",
    "subset = checkins.head(100000)\n",
    "\n",
    "clustering = MeanShift(bandwidth=bandwidth)\n",
    "clustering.fit(subset[['latitude', 'longitude']])\n",
    "clustering.labels_"
   ]
  },
  {
   "cell_type": "markdown",
   "metadata": {
    "id": "pMwwhbdYqGA8"
   },
   "source": [
    "Некоторые из получившихся кластеров содержат слишком мало точек — такие кластеры не интересны рекламодателям. Поэтому надо определить, какие из кластеров содержат, скажем, больше 15 элементов. Центры этих кластеров и являются оптимальными для размещения."
   ]
  },
  {
   "cell_type": "code",
   "execution_count": 6,
   "metadata": {},
   "outputs": [
    {
     "name": "stderr",
     "output_type": "stream",
     "text": [
      "C:\\Users\\Leoni\\AppData\\Local\\Temp\\ipykernel_28144\\2274092738.py:1: SettingWithCopyWarning: \n",
      "A value is trying to be set on a copy of a slice from a DataFrame.\n",
      "Try using .loc[row_indexer,col_indexer] = value instead\n",
      "\n",
      "See the caveats in the documentation: https://pandas.pydata.org/pandas-docs/stable/user_guide/indexing.html#returning-a-view-versus-a-copy\n",
      "  subset['cluster_num'] = clustering.labels_\n"
     ]
    }
   ],
   "source": [
    "subset['cluster_num'] = clustering.labels_\n",
    "counts = subset['cluster_num'].value_counts()\n",
    "fift = counts[counts > 15].index\n",
    "subset = subset[subset['cluster_num'].isin(fift)]"
   ]
  },
  {
   "cell_type": "markdown",
   "metadata": {
    "id": "_glFqpB8qGA8"
   },
   "source": [
    "Как мы помним, 20 баннеров надо разместить близ офисов компании. Найдем на Google Maps по запросу Carnival Cruise Line адреса всех офисов:\n",
    "\n",
    "33.751277, -118.188740 (Los Angeles)\n",
    "\n",
    "25.867736, -80.324116 (Miami)\n",
    "\n",
    "51.503016, -0.075479 (London)\n",
    "\n",
    "52.378894, 4.885084 (Amsterdam)\n",
    "\n",
    "39.366487, 117.036146 (Beijing)\n",
    "\n",
    "-33.868457, 151.205134 (Sydney)\n",
    "\n",
    "Осталось определить 20 ближайших к ним центров кластеров. Т.е. посчитать дистанцию до ближайшего офиса для каждой точки и выбрать 20 с наименьшим значением."
   ]
  },
  {
   "cell_type": "code",
   "execution_count": 5,
   "metadata": {
    "collapsed": true,
    "id": "QF38FDyzqGA9"
   },
   "outputs": [],
   "source": [
    "def distance(x, y):\n",
    "    return np.sqrt( np.sum((x - y)**2) )"
   ]
  },
  {
   "cell_type": "code",
   "execution_count": 7,
   "metadata": {},
   "outputs": [],
   "source": [
    "offices = np.array([\n",
    "    [33.751277, -118.188740],\n",
    "    [25.867736, -80.324116],\n",
    "    [51.503016, -0.075479],\n",
    "    [52.378894, 4.885084],\n",
    "    [39.366487, 117.036146],\n",
    "    [-33.868457, 151.205134]\n",
    "])\n",
    "\n",
    "centers = clustering.cluster_centers_\n",
    "distances = np.array([np.min([distance(center, office) for office in offices]) for center in centers])\n",
    "near = centers[np.argsort(distances)]\n",
    "minimal_distance = np.sort(distances)[0]"
   ]
  },
  {
   "cell_type": "markdown",
   "metadata": {
    "id": "0pIg97lCqGA9"
   },
   "source": [
    "Выберите из получившихся 20 центров тот, который наименее удален от ближайшего к нему офиса. Ответ в этом задании — широта и долгота этого центра, записанные через пробел."
   ]
  },
  {
   "cell_type": "code",
   "execution_count": 9,
   "metadata": {
    "id": "wxJnz5YTqGA9"
   },
   "outputs": [
    {
     "name": "stdout",
     "output_type": "stream",
     "text": [
      "Minimal distance: 0.007835\n",
      "Coordinates of closest centroid: [-33.86063043 151.20477593]\n"
     ]
    }
   ],
   "source": [
    "print('Minimal distance: %f' % minimal_distance)\n",
    "print('Coordinates of closest centroid: %s' % near[:20][0])"
   ]
  }
 ],
 "metadata": {
  "colab": {
   "provenance": []
  },
  "kernelspec": {
   "display_name": "Python 3",
   "language": "python",
   "name": "python3"
  },
  "language_info": {
   "codemirror_mode": {
    "name": "ipython",
    "version": 3
   },
   "file_extension": ".py",
   "mimetype": "text/x-python",
   "name": "python",
   "nbconvert_exporter": "python",
   "pygments_lexer": "ipython3",
   "version": "3.12.4"
  }
 },
 "nbformat": 4,
 "nbformat_minor": 0
}
